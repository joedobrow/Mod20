{
 "cells": [
  {
   "cell_type": "code",
   "execution_count": 1,
   "metadata": {},
   "outputs": [],
   "source": [
    "# Here is my KNN model from scratch"
   ]
  },
  {
   "cell_type": "code",
   "execution_count": 3,
   "metadata": {},
   "outputs": [],
   "source": [
    "import pandas as pd\n",
    "import numpy as np\n",
    "import matplotlib.pyplot as plt\n",
    "%matplotlib inline"
   ]
  },
  {
   "cell_type": "code",
   "execution_count": 4,
   "metadata": {},
   "outputs": [],
   "source": [
    "music = pd.DataFrame()\n",
    "music['duration'] = [184, 134, 243, 186, 122, 197, 294, 382, 102, 264, \n",
    "                     205, 110, 307, 110, 397, 153, 190, 192, 210, 403,\n",
    "                     164, 198, 204, 253, 234, 190, 182, 401, 376, 102]\n",
    "music['loudness'] = [18, 34, 43, 36, 22, 9, 29, 22, 10, 24, \n",
    "                     20, 10, 17, 51, 7, 13, 19, 12, 21, 22,\n",
    "                     16, 18, 4, 23, 34, 19, 14, 11, 37, 42]\n",
    "music['jazz'] = [ 1, 0, 0, 0, 1, 1, 0, 1, 1, 0,\n",
    "                  0, 1, 1, 0, 1, 1, 0, 1, 1, 1,\n",
    "                  1, 1, 1, 1, 0, 0, 1, 1, 0, 0]"
   ]
  },
  {
   "cell_type": "code",
   "execution_count": 87,
   "metadata": {},
   "outputs": [],
   "source": [
    "def KNN(data, duration, loudness, k):\n",
    "    # 2 dimensional search\n",
    "    distance = {}\n",
    "    jazz, rock = 0, 0\n",
    "    \n",
    "    for i in range(len(data)):\n",
    "        distance[i] = ((duration - data.iloc[i,0])**2 + (loudness - data.iloc[i, 1]) ** 2) ** 0.5\n",
    "    nearest_neighbors = []\n",
    "    for i in range(k):\n",
    "        for j in range(len(distance)):\n",
    "            if distance[j] > 0:\n",
    "                if distance[j] == min(distance.values()):\n",
    "                    nearest_neighbors.append(j)\n",
    "                    distance[j] = max(distance.values())\n",
    "                    break\n",
    "    for neighbor in nearest_neighbors:\n",
    "        if data.iloc[neighbor,2] == 1:\n",
    "            jazz += 1\n",
    "        else:\n",
    "            rock += 1\n",
    "    if jazz > rock:\n",
    "        return 1\n",
    "    elif rock > jazz:\n",
    "        return 0\n",
    "    else:\n",
    "        return 'Tie?'"
   ]
  },
  {
   "cell_type": "code",
   "execution_count": 151,
   "metadata": {},
   "outputs": [],
   "source": [
    "duration_list = []\n",
    "loudness_list = []\n",
    "genre_list = []\n",
    "for i in range(90, 420, 5):\n",
    "    for j in range(0, 52, 1):\n",
    "        duration_list.append(i)\n",
    "        loudness_list.append(j)\n",
    "        genre_list.append(KNN(music, i, j, 5))\n",
    "df = pd.DataFrame()\n",
    "df['duration'] = duration_list\n",
    "df['loudness'] = loudness_list\n",
    "df['genre'] = genre_list"
   ]
  },
  {
   "cell_type": "code",
   "execution_count": 154,
   "metadata": {},
   "outputs": [
    {
     "data": {
      "image/png": "[encoded data removed]",
      "text/plain": [
       "<Figure size 432x288 with 1 Axes>"
      ]
     },
     "metadata": {
      "needs_background": "light"
     },
     "output_type": "display_data"
    },
    {
     "data": {
      "image/png": "[encoded data removed]",
      "text/plain": [
       "<Figure size 432x288 with 1 Axes>"
      ]
     },
     "metadata": {
      "needs_background": "light"
     },
     "output_type": "display_data"
    }
   ],
   "source": [
    "plt.scatter(df.duration[df.genre == 1], df.loudness[df.genre == 1], color='navy')\n",
    "plt.scatter(df.duration[df.genre == 0], df.loudness[df.genre == 0], color='darkred')\n",
    "plt.show()\n",
    "plt.scatter(music.duration[music.jazz == 1], music.loudness[music.jazz == 1], color='blue')\n",
    "plt.scatter(music.duration[music.jazz == 0], music.loudness[music.jazz == 0], color='yellow')\n",
    "plt.show()\n",
    "# This looks a little off because the y and x scales of the graph of off."
   ]
  },
  {
   "cell_type": "code",
   "execution_count": null,
   "metadata": {},
   "outputs": [],
   "source": []
  }
 ],
 "metadata": {
  "kernelspec": {
   "display_name": "Python 3",
   "language": "python",
   "name": "python3"
  },
  "language_info": {
   "codemirror_mode": {
    "name": "ipython",
    "version": 3
   },
   "file_extension": ".py",
   "mimetype": "text/x-python",
   "name": "python",
   "nbconvert_exporter": "python",
   "pygments_lexer": "ipython3",
   "version": "3.7.3"
  }
 },
 "nbformat": 4,
 "nbformat_minor": 2
}
